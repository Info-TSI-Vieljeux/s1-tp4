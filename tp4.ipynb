{
 "cells": [
  {
   "cell_type": "markdown",
   "id": "3bf20fe9",
   "metadata": {},
   "source": [
    ">Ouvrir le notebook dans Colab en modifiant le début de son adresse dans le navigateur :<br>\n",
    "il faut remplacer **github.com** par **githubtocolab.com**.<br>\n",
    "Une fois vos réponses apportées, le notebook devra être sauvegardé dans GitHub, dans le repository du TP :<br>\n",
    "*Fichier > Enregistrer une copie dans Github*<br>\n",
    "*Info-TSI-Vieljeux/tpx-votre_nom*<br>\n",
    "\n",
    "---"
   ]
  },
  {
   "cell_type": "markdown",
   "id": "07cd478a",
   "metadata": {
    "deletable": false,
    "editable": false,
    "nbgrader": {
     "cell_type": "markdown",
     "checksum": "eb7473fc5b1090a81d9ab8f6b9c2bb3b",
     "grade": false,
     "grade_id": "cell-cdb22e2b6ee0aca7",
     "locked": true,
     "schema_version": 3,
     "solution": false,
     "task": false
    }
   },
   "source": [
    "# Algorithmes dichotomiques"
   ]
  },
  {
   "cell_type": "markdown",
   "id": "92e4af08",
   "metadata": {
    "deletable": false,
    "editable": false,
    "nbgrader": {
     "cell_type": "markdown",
     "checksum": "715ae3c3fd97028a2cc32321591c7924",
     "grade": false,
     "grade_id": "cell-6bbceacc2b3abea1",
     "locked": true,
     "schema_version": 3,
     "solution": false,
     "task": false
    }
   },
   "source": [
    "## Recherche dichotomique"
   ]
  },
  {
   "cell_type": "markdown",
   "id": "385e48cf",
   "metadata": {
    "deletable": false,
    "editable": false,
    "nbgrader": {
     "cell_type": "markdown",
     "checksum": "f6429a39f7882e719fe3cd78bf4cf48c",
     "grade": false,
     "grade_id": "cell-80f4ffe34af00d94",
     "locked": true,
     "schema_version": 3,
     "solution": false,
     "task": false
    }
   },
   "source": [
    "L'algorithme de recherche mis au point dans le tp1 compte dans le pire des cas autant d'étapes que l'ensemble scruté contient d'éléments.<br>\n",
    "Peut-on faire mieux ?<br>\n",
    "Dans le cas, d'un ensemble ordonné trié, la réponse est oui. On peut même faire beaucoup mieux !"
   ]
  },
  {
   "cell_type": "markdown",
   "id": "03ed0072",
   "metadata": {
    "deletable": false,
    "editable": false,
    "nbgrader": {
     "cell_type": "markdown",
     "checksum": "7a2af1337d0150b06be876deb3ded412",
     "grade": false,
     "grade_id": "cell-88c9c7db4bafda6a",
     "locked": true,
     "schema_version": 3,
     "solution": false,
     "task": false
    }
   },
   "source": [
    "L'idée est de regarder d'abord au milieu du paquet dans lequel on cherche. Si l'élément au milieu est plus petit (repectivement plus grand) que l'élément recherché, comme on sait que le paque t est trié, on en déduit que l'élément cherché ne peut être que dans la deuxième partie (respectivement dans la première partie) du paquet s'il est présent."
   ]
  },
  {
   "cell_type": "markdown",
   "id": "4230180e",
   "metadata": {
    "deletable": false,
    "editable": false,
    "nbgrader": {
     "cell_type": "markdown",
     "checksum": "46b1b81ffd39d6526c7884ab64d2bcb8",
     "grade": false,
     "grade_id": "cell-fb998ca8717d2cda",
     "locked": true,
     "schema_version": 3,
     "solution": false,
     "task": false
    }
   },
   "source": [
    "On recommence ensuite le même raisonnement avec le nouveau paquet."
   ]
  },
  {
   "cell_type": "code",
   "execution_count": null,
   "id": "b43f789f",
   "metadata": {
    "deletable": false,
    "editable": false,
    "nbgrader": {
     "cell_type": "code",
     "checksum": "ef60cc4fd9f6bc7181f3ede29abb3365",
     "grade": false,
     "grade_id": "cell-cc1c5a3b9e1bbe9b",
     "locked": true,
     "schema_version": 3,
     "solution": false,
     "task": false
    }
   },
   "outputs": [],
   "source": [
    "from IPython.display import YouTubeVideo\n",
    "YouTubeVideo('iP897Z5Nerk', width=960, height=720)"
   ]
  },
  {
   "cell_type": "markdown",
   "id": "e0ed1870",
   "metadata": {
    "deletable": false,
    "editable": false,
    "nbgrader": {
     "cell_type": "markdown",
     "checksum": "a4d7d772e1cf58218293cc567cdd7698",
     "grade": false,
     "grade_id": "cell-c0316ae49d96d0b8",
     "locked": true,
     "schema_version": 3,
     "solution": false,
     "task": false
    }
   },
   "source": [
    "Voilà ci-dessous une tentative d'implémentation de cet algorithme :"
   ]
  },
  {
   "cell_type": "code",
   "execution_count": null,
   "id": "1d20d42c",
   "metadata": {
    "deletable": false,
    "editable": false,
    "nbgrader": {
     "cell_type": "code",
     "checksum": "0f277b1e93f19905c2f87a0aade5a3fe",
     "grade": false,
     "grade_id": "cell-9ab11b709e1f1cfe",
     "locked": true,
     "schema_version": 3,
     "solution": false,
     "task": false
    }
   },
   "outputs": [],
   "source": [
    "def recherche_dicho(L,x) :\n",
    "    n = len(L)\n",
    "    g, d = 0, n-1\n",
    "    while g < d :\n",
    "        i = (g + d)//2\n",
    "        if x < L[i] :\n",
    "            d = i - 1 \n",
    "        elif x > L[i] :\n",
    "            g = i + 1\n",
    "        else :\n",
    "            return True           \n",
    "    return False"
   ]
  },
  {
   "cell_type": "code",
   "execution_count": null,
   "id": "d0ca16c9",
   "metadata": {},
   "outputs": [],
   "source": [
    "# cellule pour tester la fonction\n"
   ]
  },
  {
   "cell_type": "markdown",
   "id": "e3474673",
   "metadata": {
    "deletable": false,
    "editable": false,
    "nbgrader": {
     "cell_type": "markdown",
     "checksum": "924bcceaf5197b7201252bff0a5662cc",
     "grade": false,
     "grade_id": "cell-ab09bafd64bb508b",
     "locked": true,
     "schema_version": 3,
     "solution": false,
     "task": false
    }
   },
   "source": [
    "Testez cet algorithme et constatez qu'il contient une erreur.<br>\n",
    "Recopier ci-dessous une liste triée et un élément à rechercher qui mettent en échec l'algorithme."
   ]
  },
  {
   "cell_type": "code",
   "execution_count": null,
   "id": "08f1a65b",
   "metadata": {},
   "outputs": [],
   "source": [
    "# Ecrire votre liste L et votre élément e ci-dessous :\n",
    "L = []\n",
    "e = "
   ]
  },
  {
   "cell_type": "code",
   "execution_count": null,
   "id": "15340a10",
   "metadata": {
    "deletable": false,
    "editable": false,
    "nbgrader": {
     "cell_type": "code",
     "checksum": "5f370039cc825dd990c6c72e5f327129",
     "grade": true,
     "grade_id": "dicho1",
     "locked": true,
     "points": 1,
     "schema_version": 3,
     "solution": false,
     "task": false
    }
   },
   "outputs": [],
   "source": [
    "# Cellule de vérification (ne pas modifier)"
   ]
  },
  {
   "cell_type": "markdown",
   "id": "ca1f0990",
   "metadata": {
    "deletable": false,
    "editable": false,
    "nbgrader": {
     "cell_type": "markdown",
     "checksum": "352509915f717352b2e0a6c6e0aaf1cc",
     "grade": false,
     "grade_id": "cell-dc1129797b91d6b4",
     "locked": true,
     "schema_version": 3,
     "solution": false,
     "task": false
    }
   },
   "source": [
    "Dans la cellule suivante, corrigez l'algorithme `recherche_dicho_corr` en ajoutant un seul caractère.<br>\n",
    "Attention, tout autre ajout, même un espace, rendra faux l'exercice."
   ]
  },
  {
   "cell_type": "code",
   "execution_count": null,
   "id": "c8aabfb2",
   "metadata": {},
   "outputs": [],
   "source": [
    "def recherche_dicho_corr(L,x) :\n",
    "    n = len(L)\n",
    "    g, d = 0, n-1\n",
    "    while g < d :\n",
    "        i = (g + d)//2\n",
    "        if x < L[i] :\n",
    "            d = i - 1\n",
    "        elif x > L[i] :\n",
    "            g = i + 1\n",
    "        else :\n",
    "            return True\n",
    "    return False"
   ]
  },
  {
   "cell_type": "code",
   "execution_count": null,
   "id": "f8503d40",
   "metadata": {
    "deletable": false,
    "editable": false,
    "nbgrader": {
     "cell_type": "code",
     "checksum": "39ef14272f2b2da8a65814ddac853bd5",
     "grade": true,
     "grade_id": "dicho2",
     "locked": true,
     "points": 1,
     "schema_version": 3,
     "solution": false,
     "task": false
    }
   },
   "outputs": [],
   "source": [
    "# Cellule de vérification (ne pas modifier)"
   ]
  },
  {
   "cell_type": "markdown",
   "id": "ba3dd953",
   "metadata": {
    "deletable": false,
    "editable": false,
    "nbgrader": {
     "cell_type": "markdown",
     "checksum": "6d8af37c4706c7cb253c19d8b6f1ede7",
     "grade": false,
     "grade_id": "cell-119abcf06187d6dc",
     "locked": true,
     "schema_version": 3,
     "solution": false,
     "task": false
    }
   },
   "source": [
    "La figure suivante est un arbre binaire décrivant tous les chemins possibles que prend l'algorithme à partir d'une liste de 16 éléments (en vert, le nombre d'éléments restant)."
   ]
  },
  {
   "cell_type": "markdown",
   "id": "753a8981",
   "metadata": {
    "deletable": false,
    "editable": false,
    "nbgrader": {
     "cell_type": "markdown",
     "checksum": "d8e5540cd8a75acc144ded0373dd7f1a",
     "grade": false,
     "grade_id": "cell-24633056b4f9c590",
     "locked": true,
     "schema_version": 3,
     "solution": false,
     "task": false
    }
   },
   "source": [
    "![](http://cordier-phychi.toile-libre.org/Info/github/arbrebin.jpg)"
   ]
  },
  {
   "cell_type": "markdown",
   "id": "2716c79c",
   "metadata": {
    "deletable": false,
    "editable": false,
    "nbgrader": {
     "cell_type": "markdown",
     "checksum": "d077b619dd085743d08653f512ba3828",
     "grade": false,
     "grade_id": "cell-fc337ffdc6c002ca",
     "locked": true,
     "schema_version": 3,
     "solution": false,
     "task": false
    }
   },
   "source": [
    "Montrons maintenant que cet algorithme peut se montrer bien plus rapide que la recherche simple du tp1.<br>\n",
    "Réouvrons pour cela la liste de mots de passe du tp2 mais en la transformant en liste de mots et plus en long texte."
   ]
  },
  {
   "cell_type": "code",
   "execution_count": null,
   "id": "a41671a8",
   "metadata": {
    "deletable": false,
    "editable": false,
    "nbgrader": {
     "cell_type": "code",
     "checksum": "0b388f2f830ff7b6179d89c7bebd9951",
     "grade": false,
     "grade_id": "cell-2899ace44fe9101d",
     "locked": true,
     "schema_version": 3,
     "solution": false,
     "task": false
    }
   },
   "outputs": [],
   "source": [
    "# importation de la classique liste de mots de passe rockyou (cela prend quelques secondes)\n",
    "from urllib.request import urlopen\n",
    "url = 'http://cordier-phychi.toile-libre.org/Info/github/rockyou.txt'\n",
    "rockyou = urlopen(url).read().decode('latin-1').split()"
   ]
  },
  {
   "cell_type": "code",
   "execution_count": null,
   "id": "70eb46a6",
   "metadata": {
    "deletable": false,
    "editable": false,
    "nbgrader": {
     "cell_type": "code",
     "checksum": "1ec79c142bdab168718caa8eecc7d0a8",
     "grade": false,
     "grade_id": "cell-9476351143b4af74",
     "locked": true,
     "schema_version": 3,
     "solution": false,
     "task": false
    }
   },
   "outputs": [],
   "source": [
    "rockyou = sorted(rockyou)\n",
    "print(len(rockyou),'mots de passe')"
   ]
  },
  {
   "cell_type": "code",
   "execution_count": null,
   "id": "625b0c35",
   "metadata": {},
   "outputs": [],
   "source": [
    "def trouve_indice(L, x):\n",
    "    '''\n",
    "    trouve_indice(L : liste, x : type des éléments de L) -> soit un entier, soit un booléen\n",
    "    postcondition : renvoie l'indice d'un éléments x lorsqu'il est présent dans la liste L\n",
    "    et renvoie False lorsqu'il est absent\n",
    "    '''\n",
    "    for indice, element in enumerate(L):\n",
    "        if element == x:\n",
    "            return indice\n",
    "    return False"
   ]
  },
  {
   "cell_type": "markdown",
   "id": "66f17f49",
   "metadata": {
    "deletable": false,
    "editable": false,
    "nbgrader": {
     "cell_type": "markdown",
     "checksum": "bc5a2718020f5b9522621a1d8d2a3fcc",
     "grade": false,
     "grade_id": "cell-a1511b57f241d33d",
     "locked": true,
     "schema_version": 3,
     "solution": false,
     "task": false
    }
   },
   "source": [
    "Rq : `enumerate` est une fonction native souvent très pratique."
   ]
  },
  {
   "cell_type": "code",
   "execution_count": null,
   "id": "294009e0",
   "metadata": {
    "deletable": false,
    "editable": false,
    "nbgrader": {
     "cell_type": "code",
     "checksum": "9d5e1e856b1d3ee9b040817b37d8c28a",
     "grade": false,
     "grade_id": "cell-9025ef53c9bd0e3f",
     "locked": true,
     "schema_version": 3,
     "solution": false,
     "task": false
    }
   },
   "outputs": [],
   "source": [
    "help(enumerate)"
   ]
  },
  {
   "cell_type": "code",
   "execution_count": null,
   "id": "0c5ef12d",
   "metadata": {},
   "outputs": [],
   "source": [
    "from time import time\n",
    "from random import randint\n",
    "import matplotlib.pyplot as plt\n",
    "plt.style.use('seaborn')\n",
    "plt.rcParams['figure.figsize'] = (15, 6)\n",
    "\n",
    "Indice, T_ch = [], []\n",
    "liste_noms = ['567890','billgates','dollars','jklmno','pupuce','zorro']\n",
    "for nom in liste_noms:\n",
    "    start = time()\n",
    "    i = trouve_indice(rockyou,nom)\n",
    "    stop = time()\n",
    "    Indice.append(i)\n",
    "    T_ch.append(stop-start)\n",
    "    print(f\"{stop -start:.2e} s pour trouver '{nom}' qui est à la position {i}\")\n",
    "plt.plot(Indice,T_ch,'--')\n",
    "plt.plot(Indice,T_ch,'o',c='C2')\n",
    "plt.xlabel(\"Position dans la liste\")\n",
    "plt.ylabel(\"Temps pour trouver le nom (s)\")"
   ]
  },
  {
   "cell_type": "markdown",
   "id": "d3db1224",
   "metadata": {
    "deletable": false,
    "editable": false,
    "nbgrader": {
     "cell_type": "markdown",
     "checksum": "fa343e40d5bde70e934bc80b2213c836",
     "grade": false,
     "grade_id": "cell-31e2807ff016d3cc",
     "locked": true,
     "schema_version": 3,
     "solution": false,
     "task": false
    }
   },
   "source": [
    "Comment semble évoluer le temps de recherche en fonction de la position dans la liste ?"
   ]
  },
  {
   "cell_type": "code",
   "execution_count": null,
   "id": "8f19c40f",
   "metadata": {},
   "outputs": [],
   "source": [
    "# Écrire votre réponse dans la chaîne de caractères :\n",
    "reponse = \"\"\"\n",
    "bla\n",
    "bla\n",
    "bla\n",
    "\"\"\""
   ]
  },
  {
   "cell_type": "code",
   "execution_count": null,
   "id": "053a2ed2",
   "metadata": {
    "deletable": false,
    "editable": false,
    "nbgrader": {
     "cell_type": "code",
     "checksum": "2c955ddeb9172c134aa8b34b2b3055a8",
     "grade": true,
     "grade_id": "evolution",
     "locked": true,
     "points": 1,
     "schema_version": 3,
     "solution": false,
     "task": false
    }
   },
   "outputs": [],
   "source": [
    "# Cellule de vérification (ne pas modifier)"
   ]
  },
  {
   "cell_type": "markdown",
   "id": "ba12e0e7",
   "metadata": {
    "deletable": false,
    "editable": false,
    "nbgrader": {
     "cell_type": "markdown",
     "checksum": "55db05b701061af466e02096371de27d",
     "grade": false,
     "grade_id": "cell-f2eab6f9dcba032e",
     "locked": true,
     "schema_version": 3,
     "solution": false,
     "task": false
    }
   },
   "source": [
    "Avec l'algorithme de recherche dichotomique, on obtient :"
   ]
  },
  {
   "cell_type": "code",
   "execution_count": null,
   "id": "bf0b1091",
   "metadata": {},
   "outputs": [],
   "source": [
    "T_ch = []\n",
    "liste_noms = ['567890','billgates','dollars','jklmno','pupuce','zorro']\n",
    "for i,nom in zip(Indice,liste_noms):\n",
    "    start = time()\n",
    "    recherche_dicho_corr(rockyou,nom)\n",
    "    stop = time()\n",
    "    T_ch.append(stop-start)\n",
    "    print(f\"{stop -start:.2e} s pour trouver {nom} qui est à la position {i}\")\n",
    "\n",
    "plt.plot(Indice,T_ch,'--')\n",
    "plt.plot(Indice,T_ch,'o',c='C2')\n",
    "for i in range(len(liste_noms)) :\n",
    "    plt.text(Indice[i]+max(Indice)/100,T_ch[i],liste_noms[i])\n",
    "plt.xlabel(\"Position dans la liste (s)\")\n",
    "plt.ylabel(\"Temps pour trouver le nom\")\n",
    "plt.savefig('graph.png',dpi=600)"
   ]
  },
  {
   "cell_type": "markdown",
   "id": "e300772a",
   "metadata": {},
   "source": [
    "On constate que l'algorithme dichotomique met beaucoup moins de temps et qu'il ne semble pas dépendre clairement de la position de l'élément."
   ]
  },
  {
   "cell_type": "markdown",
   "id": "8b74927f",
   "metadata": {},
   "source": [
    "Tentons de comparer le comportement des deux algorithmes quand la longueur de la liste augmente."
   ]
  },
  {
   "cell_type": "markdown",
   "id": "cb2c004d",
   "metadata": {
    "deletable": false,
    "editable": false,
    "nbgrader": {
     "cell_type": "markdown",
     "checksum": "d1e898077c14438fcb77b04d39249878",
     "grade": false,
     "grade_id": "cell-f5ec118d02594286",
     "locked": true,
     "schema_version": 3,
     "solution": false,
     "task": false
    }
   },
   "source": [
    "Quel que soit l'algorithme de recherche, la **pire situation possible** correspond à la recherche d'un élément absent de la liste.<br>\n",
    "Se placer dans ce pire des cas permet une comparaison plus sûre des algorithmes ; on sait à quoi s'attendre !"
   ]
  },
  {
   "cell_type": "markdown",
   "id": "2e0c9c41",
   "metadata": {},
   "source": [
    "Mesurer un temps dépend de trop de paramètres (processeur, utilisation de la mémoire par le système, etc.).<br>\n",
    "Une information plus universelle est le **nombre d'étapes de l'algorithme**.<br>\n",
    "Plus précisément, concentrons sur le nombre de comparaisons entre l'élément recherché `x` et les éléments de la liste `L`."
   ]
  },
  {
   "cell_type": "markdown",
   "id": "d0b76118",
   "metadata": {
    "deletable": false,
    "editable": false,
    "nbgrader": {
     "cell_type": "markdown",
     "checksum": "e0ca315ca96af626f2f9f845d5ec885f",
     "grade": false,
     "grade_id": "cell-fd45d2f0a0245d5d",
     "locked": true,
     "schema_version": 3,
     "solution": false,
     "task": false
    }
   },
   "source": [
    "On a construit ci-dessous la fonction `trouve_indice_etapes` dont la description est donnée :"
   ]
  },
  {
   "cell_type": "code",
   "execution_count": null,
   "id": "227f12fa",
   "metadata": {
    "deletable": false,
    "editable": false,
    "nbgrader": {
     "cell_type": "code",
     "checksum": "effc3f5e9b2bfd093d40e7a74c353031",
     "grade": false,
     "grade_id": "cell-123406f1cfaec7d7",
     "locked": true,
     "schema_version": 3,
     "solution": false,
     "task": false
    }
   },
   "outputs": [],
   "source": [
    "def trouve_indice_etapes(L,x):\n",
    "    \"\"\"\n",
    "    trouve_indice_etapes(liste : list, valeur : type des éléments de la liste) -> bool, int\n",
    "    postcondition : returne à la fois un booléen qui traduit la présence ou non de l'élément \n",
    "    et un entier correspondant au nombre de comparaisons effectuées entre x et les éléments de L\n",
    "    \"\"\"\n",
    "    nb_comp = 0\n",
    "    for indice, element in enumerate(L):\n",
    "        nb_comp += 1\n",
    "        if element == x:\n",
    "            return True,nb_comp\n",
    "    return False,nb_comp"
   ]
  },
  {
   "cell_type": "markdown",
   "id": "85332b7e",
   "metadata": {
    "deletable": false,
    "editable": false,
    "nbgrader": {
     "cell_type": "markdown",
     "checksum": "a000f5c591285f61ffbc92afaae3cc13",
     "grade": false,
     "grade_id": "cell-90033723ddfb2a99",
     "locked": true,
     "schema_version": 3,
     "solution": false,
     "task": false
    }
   },
   "source": [
    "À vous de jouer pour construire sur le même modèle `recherche_dico_etapes` :"
   ]
  },
  {
   "cell_type": "code",
   "execution_count": null,
   "id": "c3e762a5",
   "metadata": {
    "deletable": false,
    "nbgrader": {
     "cell_type": "code",
     "checksum": "5a45c471adcb79c9e5d27cba787898d0",
     "grade": false,
     "grade_id": "dicho_etapes",
     "locked": false,
     "schema_version": 3,
     "solution": true,
     "task": false
    }
   },
   "outputs": [],
   "source": [
    "def recherche_dicho_etapes(L,x) :\n",
    "    \"\"\"\n",
    "    recherche_dicho_etapes(liste : list, valeur : type des éléments de la liste) -> bool, int\n",
    "    postcondition : doit returner à la fois un booléen qui traduit la présence ou non de l'élément \n",
    "    et un entier correspondant au nombre de comparaisons effectuées entre x et les éléments de L\n",
    "    \"\"\"\n",
    "    # VOTRE CODE"
   ]
  },
  {
   "cell_type": "code",
   "execution_count": null,
   "id": "4f54d542",
   "metadata": {
    "deletable": false,
    "editable": false,
    "nbgrader": {
     "cell_type": "code",
     "checksum": "98767541c2600a43211650c862e8f00f",
     "grade": true,
     "grade_id": "dicho_etapes_corr",
     "locked": true,
     "points": 1,
     "schema_version": 3,
     "solution": false,
     "task": false
    }
   },
   "outputs": [],
   "source": [
    "# Cellule de vérification (ne pas modifier)"
   ]
  },
  {
   "cell_type": "markdown",
   "id": "f2951e51",
   "metadata": {
    "deletable": false,
    "editable": false,
    "nbgrader": {
     "cell_type": "markdown",
     "checksum": "e5abd470db80f205a28d3aae6feffd82",
     "grade": false,
     "grade_id": "cell-68b5e5321882d7f1",
     "locked": true,
     "schema_version": 3,
     "solution": false,
     "task": false
    }
   },
   "source": [
    "Maintenant, comparons :"
   ]
  },
  {
   "cell_type": "code",
   "execution_count": null,
   "id": "ca006402",
   "metadata": {},
   "outputs": [],
   "source": [
    "import pandas as pd\n",
    "NB_elts, NB_comp = [], []\n",
    "nom = '???#!!!'\n",
    "liste_longueurs = [10*2**i for i in range(1,19)]\n",
    "\n",
    "for longueur in liste_longueurs:\n",
    "    start = time()\n",
    "    nb_comp = trouve_indice_etapes(rockyou[:longueur],nom)[1]\n",
    "    stop = time()\n",
    "    NB_elts.append(longueur)\n",
    "    NB_comp.append(nb_comp)\n",
    "\n",
    "d = {'taille' : NB_elts,'# comparaisons': NB_comp}\n",
    "tableau = pd.DataFrame(data=d)\n",
    "display(tableau)\n",
    "fig, axs = plt.subplots(2,figsize=(15,12))\n",
    "axs[0].plot(NB_elts,NB_comp,'--')\n",
    "axs[0].plot(NB_elts,NB_comp,'o',c='C2')\n",
    "axs[1].semilogx(NB_elts,NB_comp,'--')\n",
    "axs[1].semilogx(NB_elts,NB_comp,'o',c='C2')\n",
    "axs[0].set(xlabel='Longueur de la liste', ylabel='Nb de comparaisons')\n",
    "axs[1].set(xlabel='Longueur de la liste (axe logarithmique)', ylabel='Nb de comparaisons')"
   ]
  },
  {
   "cell_type": "code",
   "execution_count": null,
   "id": "048c3076",
   "metadata": {},
   "outputs": [],
   "source": [
    "NB_elts, NB_comp = [], []\n",
    "nom = '???#!!!'\n",
    "liste_longueurs = [10*2**i for i in range(1,19)]\n",
    "\n",
    "for longueur in liste_longueurs:\n",
    "    start = time()\n",
    "    nb_comp = recherche_dicho_etapes(rockyou[:longueur],nom)[1]\n",
    "    stop = time()\n",
    "    NB_elts.append(longueur)\n",
    "    NB_comp.append(nb_comp)\n",
    "\n",
    "d = {'taille' : NB_elts,'# comparaisons': NB_comp}\n",
    "tableau = pd.DataFrame(data=d)\n",
    "display(tableau)\n",
    "fig, axs = plt.subplots(2,figsize=(15,12))\n",
    "axs[0].plot(NB_elts,NB_comp,'--')\n",
    "axs[0].plot(NB_elts,NB_comp,'o',c='C2')\n",
    "axs[1].semilogx(NB_elts,NB_comp,'--')\n",
    "axs[1].semilogx(NB_elts,NB_comp,'o',c='C2')\n",
    "axs[0].set(xlabel='Longueur de la liste', ylabel='Nb de comparaisons')\n",
    "axs[1].set(xlabel='Longueur de la liste (axe logarithmique)', ylabel='Nb de comparaisons')"
   ]
  },
  {
   "cell_type": "markdown",
   "id": "6f02e77d",
   "metadata": {},
   "source": [
    "## Recherche dichotomique d'une racine"
   ]
  },
  {
   "cell_type": "markdown",
   "id": "d8da8503",
   "metadata": {},
   "source": [
    "On cherche à appliquer la méthode de la dichotomie (découpage en deux systématique d'un intervalle) à la recherche d'une racine."
   ]
  },
  {
   "cell_type": "markdown",
   "id": "0dbf0458",
   "metadata": {},
   "source": [
    "Plus précisément, on souhaite déterminer une approximation d’une racine (ou zéro) sur un intervalle $[a, b]$, avec une précision $ε$, d’une fonction continue et monotone $f$ sur cet intervalle et telle que $f(a)$ et $f(b)$ sont de signes opposés ($f(a)f(b)≤0)$. Elle consiste à comparer le signe de l’image $f\\left(\\frac{a + b}{2}\\right)$ du milieu de l’intervalle $[a, b]$ avec le signe de $f(a)$ et $f(b)$ pour réduire l’intervalle de recherche de manière itérative."
   ]
  },
  {
   "cell_type": "markdown",
   "id": "2c56f328",
   "metadata": {},
   "source": [
    "Pour déterminer $x_0$, racine de la fonction $f$, strictement monotone sur l’intervalle $[a, b]$, avec une précision $ε,$ on procède comme suit :\n",
    "\n",
    "1. On détermine le milieu de l’intervalle $m = \\frac{a+b}{2}$ ;  \n",
    "2. On compare le signe de $f(m)$ avec celui de $f(a)$ et $f(b)$ pour déterminer dans quel intervalle $[a, m]$ ou $[m, b]$ se trouve la racine $x_0$ ;  \n",
    "3. On affecte à $a$ (resp. $b$) la valeur de $m$ si la racine se trouve entre $m$ et $b$ (resp. $a$) ;  \n",
    "4. On itère tant que $|a − b| > ε$, la précision définie initialement, et on renvoie $m$. "
   ]
  },
  {
   "cell_type": "markdown",
   "id": "e7d4c55c",
   "metadata": {},
   "source": [
    "![](http://cordier-phychi.toile-libre.org/Info/github/dichot.m4v)"
   ]
  },
  {
   "cell_type": "markdown",
   "id": "62f17d55",
   "metadata": {},
   "source": [
    "- Construisez une fonction `racine` prenant en argument une fonction `f`, les bornes d'un intervalle `a` et `b`, et une précision `eps` et retournant la racine ainsi que le nombre d'itérations nécessaires.<br>\n",
    "- Vous vous assurerez grâce à un `assert` qu'une racine existe bien dans l'intervalle choisi et vous sécuriserez la boucle `while` en ajoutant une condition empèchant l'algorithme d'utiliser plus de 100 itérations."
   ]
  },
  {
   "cell_type": "code",
   "execution_count": null,
   "id": "3cecaf57",
   "metadata": {
    "deletable": false,
    "nbgrader": {
     "cell_type": "code",
     "checksum": "2256bb9df8b3905379838cadba6f638e",
     "grade": false,
     "grade_id": "racine",
     "locked": false,
     "schema_version": 3,
     "solution": true,
     "task": false
    }
   },
   "outputs": [],
   "source": [
    "def racine(f,a,b,eps) :\n",
    "    \"\"\"\n",
    "    racine(f : fonction, a : flottant, b : flottant, eps : flottant) -> racine : flottant, nbiter : entier\n",
    "    précondition : f doit être une fonction n'ayant qu'un argument (un flottant) et ne retournant qu'un flottant.\n",
    "    \"\"\"\n",
    "    # VOTRE CODE"
   ]
  },
  {
   "cell_type": "code",
   "execution_count": null,
   "id": "b35260eb",
   "metadata": {},
   "outputs": [],
   "source": [
    "# Tester votre fonction sur la fonction f entre 1 et 2\n",
    "def f(x) :\n",
    "    return x**2-2\n"
   ]
  },
  {
   "cell_type": "code",
   "execution_count": null,
   "id": "e85050e1",
   "metadata": {
    "deletable": false,
    "editable": false,
    "nbgrader": {
     "cell_type": "code",
     "checksum": "44ed53f04bfdaa70af8d984b2b991295",
     "grade": true,
     "grade_id": "racines_corr",
     "locked": true,
     "points": 1,
     "schema_version": 3,
     "solution": false,
     "task": false
    }
   },
   "outputs": [],
   "source": [
    "# Cellule de vérification (ne pas modifier)"
   ]
  },
  {
   "cell_type": "code",
   "execution_count": null,
   "id": "f9c75ac2",
   "metadata": {
    "deletable": false,
    "editable": false,
    "nbgrader": {
     "cell_type": "code",
     "checksum": "4cacd34374697677135a38e0ce45563d",
     "grade": true,
     "grade_id": "assert",
     "locked": true,
     "points": 1,
     "schema_version": 3,
     "solution": false,
     "task": false
    }
   },
   "outputs": [],
   "source": [
    "# Cellule de vérification (ne pas modifier)"
   ]
  },
  {
   "cell_type": "markdown",
   "id": "6b5965db",
   "metadata": {
    "deletable": false,
    "editable": false,
    "nbgrader": {
     "cell_type": "markdown",
     "checksum": "122effbc6b7e07bd108348c2f3caa205",
     "grade": false,
     "grade_id": "cell-ff3e3a316213be1e",
     "locked": true,
     "schema_version": 3,
     "solution": false,
     "task": false
    }
   },
   "source": [
    "Comment évolue l'accroissement du nombre d'iterations en fonction de l'accroissement du nombre de chiffres significatifs obtenus pour la racine ?"
   ]
  },
  {
   "cell_type": "code",
   "execution_count": null,
   "id": "e245ffb2",
   "metadata": {},
   "outputs": [],
   "source": [
    "# Écrire votre réponse dans la chaîne de caractères :\n",
    "reponse = \"\"\"\n",
    "bla\n",
    "bla\n",
    "bla\n",
    "\"\"\""
   ]
  },
  {
   "cell_type": "code",
   "execution_count": null,
   "id": "da22f01c",
   "metadata": {
    "deletable": false,
    "editable": false,
    "nbgrader": {
     "cell_type": "code",
     "checksum": "e485b39032aa8fb9d28eee8240047c6c",
     "grade": true,
     "grade_id": "precision",
     "locked": true,
     "points": 1,
     "schema_version": 3,
     "solution": false,
     "task": false
    }
   },
   "outputs": [],
   "source": [
    "# Cellule de vérification (ne pas modifier)"
   ]
  }
 ],
 "metadata": {
  "kernelspec": {
   "display_name": "Python 3",
   "language": "python",
   "name": "python3"
  },
  "language_info": {
   "codemirror_mode": {
    "name": "ipython",
    "version": 3
   },
   "file_extension": ".py",
   "mimetype": "text/x-python",
   "name": "python",
   "nbconvert_exporter": "python",
   "pygments_lexer": "ipython3",
   "version": "3.8.10"
  }
 },
 "nbformat": 4,
 "nbformat_minor": 5
}
